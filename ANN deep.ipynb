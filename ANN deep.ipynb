{
 "cells": [
  {
   "cell_type": "code",
   "execution_count": 7,
   "metadata": {},
   "outputs": [],
   "source": [
    "import pandas as pd\n",
    "from keras.models import Sequential\n",
    "from keras.layers import Dense\n",
    "from keras.wrappers.scikit_learn import KerasClassifier\n",
    "from keras.utils import np_utils\n",
    "from sklearn.model_selection import train_test_split\n",
    "from sklearn.model_selection import cross_val_score\n",
    "from sklearn.model_selection import KFold\n",
    "from sklearn.preprocessing import LabelEncoder\n",
    "from sklearn.pipeline import Pipeline\n",
    "\n",
    "df1 = pd.read_excel('newdata.xlsx')"
   ]
  },
  {
   "cell_type": "code",
   "execution_count": 22,
   "metadata": {},
   "outputs": [],
   "source": [
    "features = df1.values[1:,1:4]\n",
    "labels = df1.values[1:,10]\n",
    "\n",
    "encoder = LabelEncoder()\n",
    "encoder.fit(labels)\n",
    "encoded_Y = encoder.transform(labels)\n",
    "\n",
    "# convert integers to dummy variables (i.e. one hot encoded)\n",
    "y = np_utils.to_categorical(encoded_Y)\n",
    "\n",
    "features_train,features_test,labels_train,labels_test=train_test_split(features,y,train_size=0.7,random_state=1)\n",
    "\n",
    "\n"
   ]
  },
  {
   "cell_type": "code",
   "execution_count": 25,
   "metadata": {},
   "outputs": [],
   "source": [
    "def baseline_model():\n",
    "    model = Sequential()\n",
    "    # 2 layers with 4 nodes and output with 3\n",
    "    model.add(Dense(5,activation='relu', kernel_initializer='random_normal', input_dim=3))\n",
    "    model.add(Dense(5,activation='relu', kernel_initializer='random_normal'))\n",
    "    model.add(Dense(5,activation='relu', kernel_initializer='random_normal'))\n",
    "    model.add(Dense(5,activation='relu', kernel_initializer='random_normal'))\n",
    "    model.add(Dense(5,activation='relu', kernel_initializer='random_normal'))\n",
    "    model.add(Dense(5,activation='relu', kernel_initializer='random_normal'))\n",
    "    model.add(Dense(5,activation='relu', kernel_initializer='random_normal'))\n",
    "    model.add(Dense(5,activation='relu', kernel_initializer='random_normal'))\n",
    "    model.add(Dense(3, activation='softmax'))\n",
    "        # Compile model\n",
    "    model.compile(loss='categorical_crossentropy', optimizer='adam', metrics=['accuracy'])\n",
    "    return model"
   ]
  },
  {
   "cell_type": "code",
   "execution_count": 26,
   "metadata": {},
   "outputs": [
    {
     "name": "stdout",
     "output_type": "stream",
     "text": [
      "Epoch 1/100\n",
      "28092/28092 [==============================] - 1s 50us/step - loss: 0.7976 - accuracy: 0.6584\n",
      "Epoch 2/100\n",
      "28092/28092 [==============================] - 1s 42us/step - loss: 0.4787 - accuracy: 0.8218\n",
      "Epoch 3/100\n",
      "28092/28092 [==============================] - 1s 42us/step - loss: 0.3339 - accuracy: 0.8536\n",
      "Epoch 4/100\n",
      "28092/28092 [==============================] - 1s 43us/step - loss: 0.2736 - accuracy: 0.8817\n",
      "Epoch 5/100\n",
      "28092/28092 [==============================] - 1s 42us/step - loss: 0.2512 - accuracy: 0.8929 0s - loss: 0.2515 - accu\n",
      "Epoch 6/100\n",
      "28092/28092 [==============================] - 1s 43us/step - loss: 0.2463 - accuracy: 0.8913\n",
      "Epoch 7/100\n",
      "28092/28092 [==============================] - 1s 50us/step - loss: 0.2425 - accuracy: 0.8946\n",
      "Epoch 8/100\n",
      "28092/28092 [==============================] - 2s 73us/step - loss: 0.2388 - accuracy: 0.8943\n",
      "Epoch 9/100\n",
      "28092/28092 [==============================] - 2s 65us/step - loss: 0.2341 - accuracy: 0.8954\n",
      "Epoch 10/100\n",
      "28092/28092 [==============================] - 1s 44us/step - loss: 0.2302 - accuracy: 0.8971 0s - loss: 0.2323  - ETA: 0s - loss: 0.2293 - accuracy\n",
      "Epoch 11/100\n",
      "28092/28092 [==============================] - 1s 45us/step - loss: 0.2278 - accuracy: 0.8979\n",
      "Epoch 12/100\n",
      "28092/28092 [==============================] - 1s 42us/step - loss: 0.2261 - accuracy: 0.8982\n",
      "Epoch 13/100\n",
      "28092/28092 [==============================] - 1s 41us/step - loss: 0.2237 - accuracy: 0.9001 0s - l\n",
      "Epoch 14/100\n",
      "28092/28092 [==============================] - 1s 48us/step - loss: 0.2241 - accuracy: 0.9006\n",
      "Epoch 15/100\n",
      "28092/28092 [==============================] - 1s 43us/step - loss: 0.2206 - accuracy: 0.9012\n",
      "Epoch 16/100\n",
      "28092/28092 [==============================] - 1s 44us/step - loss: 0.2205 - accuracy: 0.9035\n",
      "Epoch 17/100\n",
      "28092/28092 [==============================] - 1s 43us/step - loss: 0.2187 - accuracy: 0.9035\n",
      "Epoch 18/100\n",
      "28092/28092 [==============================] - 1s 43us/step - loss: 0.2184 - accuracy: 0.9056\n",
      "Epoch 19/100\n",
      "28092/28092 [==============================] - 1s 43us/step - loss: 0.2168 - accuracy: 0.9096\n",
      "Epoch 20/100\n",
      "28092/28092 [==============================] - 1s 43us/step - loss: 0.2027 - accuracy: 0.9304\n",
      "Epoch 21/100\n",
      "28092/28092 [==============================] - 1s 43us/step - loss: 0.1956 - accuracy: 0.9353\n",
      "Epoch 22/100\n",
      "28092/28092 [==============================] - 1s 43us/step - loss: 0.1923 - accuracy: 0.9357\n",
      "Epoch 23/100\n",
      "28092/28092 [==============================] - 1s 43us/step - loss: 0.1904 - accuracy: 0.9358\n",
      "Epoch 24/100\n",
      "28092/28092 [==============================] - 1s 43us/step - loss: 0.1893 - accuracy: 0.9362 0s - loss: 0.1889 -  - ETA: 0s - loss: 0.1895 - accuracy: 0.93\n",
      "Epoch 25/100\n",
      "28092/28092 [==============================] - 1s 43us/step - loss: 0.1866 - accuracy: 0.9365\n",
      "Epoch 26/100\n",
      "28092/28092 [==============================] - 1s 50us/step - loss: 0.1823 - accuracy: 0.9374\n",
      "Epoch 27/100\n",
      "28092/28092 [==============================] - 2s 59us/step - loss: 0.1792 - accuracy: 0.9368\n",
      "Epoch 28/100\n",
      "28092/28092 [==============================] - 1s 47us/step - loss: 0.1749 - accuracy: 0.9383\n",
      "Epoch 29/100\n",
      "28092/28092 [==============================] - 1s 44us/step - loss: 0.1698 - accuracy: 0.9419 0s - loss: 0.1707 \n",
      "Epoch 30/100\n",
      "28092/28092 [==============================] - 1s 44us/step - loss: 0.1655 - accuracy: 0.9455\n",
      "Epoch 31/100\n",
      "28092/28092 [==============================] - 1s 47us/step - loss: 0.1625 - accuracy: 0.9464 0s - l\n",
      "Epoch 32/100\n",
      "28092/28092 [==============================] - 1s 40us/step - loss: 0.1616 - accuracy: 0.9472\n",
      "Epoch 33/100\n",
      "28092/28092 [==============================] - 1s 47us/step - loss: 0.1580 - accuracy: 0.9491\n",
      "Epoch 34/100\n",
      "28092/28092 [==============================] - 1s 43us/step - loss: 0.1571 - accuracy: 0.9492 0s - loss: 0.1575 - accu\n",
      "Epoch 35/100\n",
      "28092/28092 [==============================] - 1s 43us/step - loss: 0.1543 - accuracy: 0.9492\n",
      "Epoch 36/100\n",
      "28092/28092 [==============================] - 1s 48us/step - loss: 0.1532 - accuracy: 0.9501\n",
      "Epoch 37/100\n",
      "28092/28092 [==============================] - 1s 46us/step - loss: 0.1517 - accuracy: 0.9522\n",
      "Epoch 38/100\n",
      "28092/28092 [==============================] - 1s 48us/step - loss: 0.1513 - accuracy: 0.9510\n",
      "Epoch 39/100\n",
      "28092/28092 [==============================] - 1s 42us/step - loss: 0.1496 - accuracy: 0.9523\n",
      "Epoch 40/100\n",
      "28092/28092 [==============================] - 1s 45us/step - loss: 0.1496 - accuracy: 0.9523\n",
      "Epoch 41/100\n",
      "28092/28092 [==============================] - 1s 42us/step - loss: 0.1488 - accuracy: 0.9523\n",
      "Epoch 42/100\n",
      "28092/28092 [==============================] - 1s 43us/step - loss: 0.1471 - accuracy: 0.9522 0s - loss: 0.1454 - accura - ETA: 0s - loss: 0.1471 - accuracy\n",
      "Epoch 43/100\n",
      "28092/28092 [==============================] - 1s 47us/step - loss: 0.1471 - accuracy: 0.9521\n",
      "Epoch 44/100\n",
      "28092/28092 [==============================] - 1s 44us/step - loss: 0.1467 - accuracy: 0.9526\n",
      "Epoch 45/100\n",
      "28092/28092 [==============================] - 1s 46us/step - loss: 0.1462 - accuracy: 0.9528 0s - loss: 0.1\n",
      "Epoch 46/100\n",
      "28092/28092 [==============================] - 1s 49us/step - loss: 0.1459 - accuracy: 0.9518\n",
      "Epoch 47/100\n",
      "28092/28092 [==============================] - 1s 47us/step - loss: 0.1452 - accuracy: 0.9529 0s - loss: 0.1485 - accu\n",
      "Epoch 48/100\n",
      "28092/28092 [==============================] - 1s 40us/step - loss: 0.1439 - accuracy: 0.9531\n",
      "Epoch 49/100\n",
      "28092/28092 [==============================] - 1s 39us/step - loss: 0.1446 - accuracy: 0.9534\n",
      "Epoch 50/100\n",
      "28092/28092 [==============================] - 1s 40us/step - loss: 0.1443 - accuracy: 0.9534\n",
      "Epoch 51/100\n",
      "28092/28092 [==============================] - 1s 45us/step - loss: 0.1442 - accuracy: 0.9525\n",
      "Epoch 52/100\n",
      "28092/28092 [==============================] - 1s 43us/step - loss: 0.1423 - accuracy: 0.9530 0s - l\n",
      "Epoch 53/100\n",
      "28092/28092 [==============================] - 1s 45us/step - loss: 0.1444 - accuracy: 0.9530\n",
      "Epoch 54/100\n",
      "28092/28092 [==============================] - 1s 43us/step - loss: 0.1417 - accuracy: 0.9538\n",
      "Epoch 55/100\n",
      "28092/28092 [==============================] - 1s 45us/step - loss: 0.1429 - accuracy: 0.9542\n",
      "Epoch 56/100\n",
      "28092/28092 [==============================] - 1s 43us/step - loss: 0.1411 - accuracy: 0.9542 0s - l\n",
      "Epoch 57/100\n",
      "28092/28092 [==============================] - 1s 40us/step - loss: 0.1425 - accuracy: 0.9534\n",
      "Epoch 58/100\n",
      "28092/28092 [==============================] - 1s 41us/step - loss: 0.1417 - accuracy: 0.9543\n",
      "Epoch 59/100\n",
      "28092/28092 [==============================] - 1s 45us/step - loss: 0.1417 - accuracy: 0.9531\n",
      "Epoch 60/100\n",
      "28092/28092 [==============================] - 1s 40us/step - loss: 0.1417 - accuracy: 0.9546\n",
      "Epoch 61/100\n",
      "28092/28092 [==============================] - 1s 48us/step - loss: 0.1412 - accuracy: 0.9539\n",
      "Epoch 62/100\n",
      "28092/28092 [==============================] - 1s 44us/step - loss: 0.1403 - accuracy: 0.9538\n",
      "Epoch 63/100\n",
      "28092/28092 [==============================] - 1s 46us/step - loss: 0.1413 - accuracy: 0.9533\n",
      "Epoch 64/100\n",
      "28092/28092 [==============================] - 1s 39us/step - loss: 0.1405 - accuracy: 0.9542\n",
      "Epoch 65/100\n",
      "28092/28092 [==============================] - 1s 41us/step - loss: 0.1408 - accuracy: 0.9533\n",
      "Epoch 66/100\n",
      "28092/28092 [==============================] - 1s 47us/step - loss: 0.1391 - accuracy: 0.9550\n",
      "Epoch 67/100\n",
      "28092/28092 [==============================] - 1s 42us/step - loss: 0.1398 - accuracy: 0.9540\n",
      "Epoch 68/100\n",
      "28092/28092 [==============================] - 1s 43us/step - loss: 0.1404 - accuracy: 0.9533 0s - loss: 0.1\n",
      "Epoch 69/100\n",
      "28092/28092 [==============================] - 1s 44us/step - loss: 0.1396 - accuracy: 0.9543\n",
      "Epoch 70/100\n",
      "28092/28092 [==============================] - 1s 39us/step - loss: 0.1386 - accuracy: 0.9548\n",
      "Epoch 71/100\n",
      "28092/28092 [==============================] - 1s 40us/step - loss: 0.1389 - accuracy: 0.9541 0s - loss: 0.1383 - accuracy: \n",
      "Epoch 72/100\n",
      "28092/28092 [==============================] - 1s 39us/step - loss: 0.1387 - accuracy: 0.9542 0s - loss: 0.136\n",
      "Epoch 73/100\n",
      "28092/28092 [==============================] - 1s 40us/step - loss: 0.1379 - accuracy: 0.9546\n",
      "Epoch 74/100\n"
     ]
    },
    {
     "name": "stdout",
     "output_type": "stream",
     "text": [
      "28092/28092 [==============================] - 1s 39us/step - loss: 0.1372 - accuracy: 0.9545\n",
      "Epoch 75/100\n",
      "28092/28092 [==============================] - 1s 39us/step - loss: 0.1382 - accuracy: 0.9539 0s -\n",
      "Epoch 76/100\n",
      "28092/28092 [==============================] - 1s 41us/step - loss: 0.1379 - accuracy: 0.9537\n",
      "Epoch 77/100\n",
      "28092/28092 [==============================] - 1s 46us/step - loss: 0.1382 - accuracy: 0.9535\n",
      "Epoch 78/100\n",
      "28092/28092 [==============================] - 1s 46us/step - loss: 0.1386 - accuracy: 0.9539\n",
      "Epoch 79/100\n",
      "28092/28092 [==============================] - 1s 44us/step - loss: 0.1377 - accuracy: 0.9541\n",
      "Epoch 80/100\n",
      "28092/28092 [==============================] - 1s 44us/step - loss: 0.1369 - accuracy: 0.9546\n",
      "Epoch 81/100\n",
      "28092/28092 [==============================] - 1s 47us/step - loss: 0.1373 - accuracy: 0.9540\n",
      "Epoch 82/100\n",
      "28092/28092 [==============================] - 1s 44us/step - loss: 0.1362 - accuracy: 0.9548\n",
      "Epoch 83/100\n",
      "28092/28092 [==============================] - 1s 43us/step - loss: 0.1371 - accuracy: 0.9546\n",
      "Epoch 84/100\n",
      "28092/28092 [==============================] - 1s 45us/step - loss: 0.1363 - accuracy: 0.9551\n",
      "Epoch 85/100\n",
      "28092/28092 [==============================] - 1s 45us/step - loss: 0.1361 - accuracy: 0.9550\n",
      "Epoch 86/100\n",
      "28092/28092 [==============================] - 1s 42us/step - loss: 0.1364 - accuracy: 0.9544 0s - loss: 0\n",
      "Epoch 87/100\n",
      "28092/28092 [==============================] - 1s 52us/step - loss: 0.1348 - accuracy: 0.9555\n",
      "Epoch 88/100\n",
      "28092/28092 [==============================] - 1s 39us/step - loss: 0.1379 - accuracy: 0.9547\n",
      "Epoch 89/100\n",
      "28092/28092 [==============================] - 1s 45us/step - loss: 0.1363 - accuracy: 0.9544\n",
      "Epoch 90/100\n",
      "28092/28092 [==============================] - 1s 40us/step - loss: 0.1370 - accuracy: 0.9546\n",
      "Epoch 91/100\n",
      "28092/28092 [==============================] - 1s 44us/step - loss: 0.1353 - accuracy: 0.9540\n",
      "Epoch 92/100\n",
      "28092/28092 [==============================] - 1s 47us/step - loss: 0.1382 - accuracy: 0.9533\n",
      "Epoch 93/100\n",
      "28092/28092 [==============================] - 1s 49us/step - loss: 0.1352 - accuracy: 0.9545 0s - loss: 0.1350 - accuracy: 0.95\n",
      "Epoch 94/100\n",
      "28092/28092 [==============================] - 1s 47us/step - loss: 0.1359 - accuracy: 0.9550\n",
      "Epoch 95/100\n",
      "28092/28092 [==============================] - 1s 50us/step - loss: 0.1350 - accuracy: 0.9558 0s -\n",
      "Epoch 96/100\n",
      "28092/28092 [==============================] - 1s 48us/step - loss: 0.1365 - accuracy: 0.9540\n",
      "Epoch 97/100\n",
      "28092/28092 [==============================] - 1s 52us/step - loss: 0.1343 - accuracy: 0.9548\n",
      "Epoch 98/100\n",
      "28092/28092 [==============================] - 1s 48us/step - loss: 0.1346 - accuracy: 0.9542\n",
      "Epoch 99/100\n",
      "28092/28092 [==============================] - 1s 45us/step - loss: 0.1342 - accuracy: 0.9551\n",
      "Epoch 100/100\n",
      "28092/28092 [==============================] - 1s 46us/step - loss: 0.1340 - accuracy: 0.9554\n"
     ]
    },
    {
     "data": {
      "text/plain": [
       "<keras.callbacks.callbacks.History at 0x1a40aca810>"
      ]
     },
     "execution_count": 26,
     "metadata": {},
     "output_type": "execute_result"
    }
   ],
   "source": [
    "model = baseline_model()\n",
    "model.fit(features_train,labels_train,epochs=100)"
   ]
  },
  {
   "cell_type": "code",
   "execution_count": 27,
   "metadata": {},
   "outputs": [
    {
     "name": "stdout",
     "output_type": "stream",
     "text": [
      "12040/12040 [==============================] - 1s 46us/step\n",
      "Test Accuracy:  0.9506644606590271\n"
     ]
    }
   ],
   "source": [
    "score, acc = model.evaluate(features_test, labels_test,batch_size=10)\n",
    "print(\"Test Accuracy: \", acc)"
   ]
  },
  {
   "cell_type": "code",
   "execution_count": 19,
   "metadata": {},
   "outputs": [
    {
     "name": "stdout",
     "output_type": "stream",
     "text": [
      "Loaded model from disk\n"
     ]
    }
   ],
   "source": [
    "from keras.models import model_from_json\n",
    "json_file = open('projectmodel.json', 'r')\n",
    "loaded_model_json = json_file.read()\n",
    "json_file.close()\n",
    "loaded_model = model_from_json(loaded_model_json)\n",
    "# load weights into new model\n",
    "loaded_model.load_weights(\"model.h5\")\n",
    "print(\"Loaded model from disk\")\n"
   ]
  },
  {
   "cell_type": "code",
   "execution_count": 20,
   "metadata": {},
   "outputs": [],
   "source": [
    "import keras\n",
    "features_test = features_test.reshape(features_test.shape[0],9,1,1)\n",
    "loaded_model.compile(loss=keras.losses.categorical_crossentropy,\n",
    "              optimizer=keras.optimizers.Adadelta(),\n",
    "              metrics=['accuracy'])\n",
    "score = loaded_model.evaluate(features_test, labels_test, verbose=0)"
   ]
  },
  {
   "cell_type": "code",
   "execution_count": 21,
   "metadata": {},
   "outputs": [
    {
     "name": "stdout",
     "output_type": "stream",
     "text": [
      "Test accuracy: 0.9909468293190002\n"
     ]
    }
   ],
   "source": [
    "print('Test accuracy:', score[1])"
   ]
  },
  {
   "cell_type": "code",
   "execution_count": null,
   "metadata": {},
   "outputs": [],
   "source": []
  }
 ],
 "metadata": {
  "kernelspec": {
   "display_name": "Python 3",
   "language": "python",
   "name": "python3"
  },
  "language_info": {
   "codemirror_mode": {
    "name": "ipython",
    "version": 3
   },
   "file_extension": ".py",
   "mimetype": "text/x-python",
   "name": "python",
   "nbconvert_exporter": "python",
   "pygments_lexer": "ipython3",
   "version": "3.7.4"
  }
 },
 "nbformat": 4,
 "nbformat_minor": 2
}
